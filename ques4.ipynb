{
 "cells": [
  {
   "cell_type": "markdown",
   "metadata": {},
   "source": [
    "# Calculate bowleys's coefficient"
   ]
  },
  {
   "cell_type": "code",
   "execution_count": 161,
   "metadata": {},
   "outputs": [],
   "source": [
    "import numpy as np\n",
    "import time\n",
    "import matplotlib.pyplot as plt"
   ]
  },
  {
   "cell_type": "code",
   "execution_count": 162,
   "metadata": {},
   "outputs": [],
   "source": [
    "\n",
    "class SimpleRandom:\n",
    "    def __init__(self, seed=None):\n",
    "        if seed is None:\n",
    "            seed = int(time.time() * 1000000) % 1000000\n",
    "        self.state = seed\n",
    "\n",
    "    def rand(self):\n",
    "        a = 1664525\n",
    "        c = 1013904223\n",
    "        m = 2**32\n",
    "        self.state = (a * self.state + c) % m\n",
    "        return self.state\n",
    "    def randrange(self, start, stop):\n",
    "\n",
    "        range_size = stop - start\n",
    "        rand_num = self.rand() % range_size\n",
    "        return start + rand_num\n",
    "\n",
    "    \n"
   ]
  },
  {
   "cell_type": "code",
   "execution_count": 163,
   "metadata": {},
   "outputs": [],
   "source": [
    "my_random = SimpleRandom()  "
   ]
  },
  {
   "cell_type": "code",
   "execution_count": 164,
   "metadata": {},
   "outputs": [
    {
     "name": "stdout",
     "output_type": "stream",
     "text": [
      "The result of rolling the biased 6-faced die is: 2\n"
     ]
    }
   ],
   "source": [
    "import random\n",
    "\n",
    "def biased_die_roll(k):\n",
    "    # Calculate probabilities for each face\n",
    "    probabilities = [1 / (2 ** (i - 1)) for i in range(2, k + 1)]\n",
    "    probabilities.insert(0, 1 / (2 ** (k - 1)))  # Probability for face 1\n",
    "    \n",
    "    # Create a list of possible outcomes (faces)\n",
    "    faces = list(range(1, k + 1))\n",
    "    \n",
    "    # Use random.choices to roll the biased die\n",
    "    result = random.choices(faces, probabilities)\n",
    "    \n",
    "    return result[0]\n",
    "\n",
    "# Specify the number of faces on the die (k)\n",
    "k = 6  # Change this to your desired number of faces\n",
    "\n",
    "# Simulate rolling the biased die\n",
    "roll_result = biased_die_roll(k)\n",
    "print(f\"The result of rolling the biased {k}-faced die is: {roll_result}\")\n"
   ]
  },
  {
   "cell_type": "code",
   "execution_count": 165,
   "metadata": {},
   "outputs": [],
   "source": [
    "class BiasedDie:\n",
    "    def __init__(self, k):\n",
    "        if k < 2:\n",
    "            raise ValueError(\"The die must have at least 2 faces.\")\n",
    "        self.k = k\n",
    "        self.probabilities = [1 / (2 ** (i - 1)) for i in range(2, k + 1)]\n",
    "        self.probabilities.insert(0, 1 / (2 ** (k - 1)))  # P(1) = P(k)\n",
    "\n",
    "    def roll(self):\n",
    "        random_value = my_random.rand() / (2**32)\n",
    "\n",
    "        cumulative_prob = 0\n",
    "\n",
    "        for i, prob in enumerate(self.probabilities):\n",
    "            cumulative_prob += prob\n",
    "            if random_value <= cumulative_prob:\n",
    "                return i + 1  # Adjust for 1-based indexing"
   ]
  },
  {
   "cell_type": "markdown",
   "metadata": {},
   "source": [
    "##### cumulative_prob = 0: Initializes a variable to keep track of the cumulative probability as we iterate through the probabilities of each face.\n",
    "##### The code checks if random_value is less than or equal to cumulative_prob. If this condition is met, it means that the random value falls within the range of the current face's probability. Here we make a assumption that probability of this point is given the random generator. if it's less than CDF of that number it fits the range\n",
    "\n",
    "##### When the condition is met, the method returns i + 1. The i + 1 adjustment is made because the list of probabilities is 0-based (i.e., the first face is at index 0), but traditional dice notation uses 1-based indexing (i.e., the first face is labeled as 1, not 0)."
   ]
  },
  {
   "cell_type": "code",
   "execution_count": 166,
   "metadata": {},
   "outputs": [],
   "source": [
    "# Example usage with a biased 4-faced die (k=4)\n",
    "k = 4\n",
    "biased_die = BiasedDie(k)\n"
   ]
  },
  {
   "cell_type": "code",
   "execution_count": 167,
   "metadata": {},
   "outputs": [],
   "source": [
    "dictionary_of_freq_of_sum = {}\n",
    "sums = []"
   ]
  },
  {
   "cell_type": "code",
   "execution_count": 168,
   "metadata": {},
   "outputs": [
    {
     "name": "stdout",
     "output_type": "stream",
     "text": [
      "{}\n",
      "[]\n"
     ]
    }
   ],
   "source": [
    "print(dictionary_of_freq_of_sum)\n",
    "print(sums)"
   ]
  },
  {
   "cell_type": "code",
   "execution_count": 169,
   "metadata": {},
   "outputs": [],
   "source": [
    "for epoch in range(1000):\n",
    "    sum_of_four_rolls = 0\n",
    "    for _ in range(4):\n",
    "        result = biased_die_roll(4)\n",
    "        sum_of_four_rolls += result\n",
    "    # print(result)\n",
    "    sums.append(sum_of_four_rolls)\n",
    "    if sum_of_four_rolls not in dictionary_of_freq_of_sum:\n",
    "        dictionary_of_freq_of_sum[sum_of_four_rolls] = 1\n",
    "    else:\n",
    "        dictionary_of_freq_of_sum[sum_of_four_rolls] += 1\n",
    "\n",
    "        "
   ]
  },
  {
   "cell_type": "code",
   "execution_count": 170,
   "metadata": {},
   "outputs": [
    {
     "name": "stdout",
     "output_type": "stream",
     "text": [
      "{14: 11, 8: 158, 10: 227, 11: 138, 9: 230, 12: 65, 13: 43, 7: 92, 6: 32, 5: 3, 15: 1}\n"
     ]
    }
   ],
   "source": [
    "print(dictionary_of_freq_of_sum)"
   ]
  },
  {
   "cell_type": "code",
   "execution_count": 171,
   "metadata": {},
   "outputs": [],
   "source": [
    "sorted_sums = sorted(sums)\n",
    "n = len(sorted_sums)\n"
   ]
  },
  {
   "cell_type": "code",
   "execution_count": 172,
   "metadata": {},
   "outputs": [],
   "source": [
    "n = len(sorted_sums)\n",
    "Q1 = np.percentile(sorted_sums, 25)\n",
    "if n % 2 == 0:\n",
    "    # Calculate the median for even n\n",
    "    median = (sorted_sums[n // 2 - 1] + sorted_sums[n // 2]) / 2\n",
    "else:\n",
    "    # Calculate the median for odd n\n",
    "    median = sorted_sums[n // 2]\n",
    "Q3 = np.percentile(sorted_sums, 75)"
   ]
  },
  {
   "cell_type": "code",
   "execution_count": 173,
   "metadata": {},
   "outputs": [],
   "source": [
    "bowleys_coefficient = (Q3 + Q1 - 2 * median) / (Q3 - Q1)\n"
   ]
  },
  {
   "cell_type": "code",
   "execution_count": 174,
   "metadata": {},
   "outputs": [
    {
     "name": "stdout",
     "output_type": "stream",
     "text": [
      "Bowley's Coefficient: 0.3333333333\n"
     ]
    }
   ],
   "source": [
    "bowleys_coefficient = round(bowleys_coefficient, 10)\n",
    "print(f\"Bowley's Coefficient: {bowleys_coefficient}\")"
   ]
  },
  {
   "cell_type": "code",
   "execution_count": 175,
   "metadata": {},
   "outputs": [
    {
     "data": {
      "image/png": "[encoded data removed]",
      "text/plain": [
       "<Figure size 640x480 with 1 Axes>"
      ]
     },
     "metadata": {},
     "output_type": "display_data"
    }
   ],
   "source": [
    "plt.bar(dictionary_of_freq_of_sum.keys(), dictionary_of_freq_of_sum.values())\n",
    "plt.xlabel('Sum of Upward Face Values')\n",
    "plt.ylabel('Frequency')\n",
    "plt.title(f'Frequency Distribution Histogram (k={k})')\n",
    "\n",
    "# Adjust x-axis ticks to display a reasonable range of values\n",
    "plt.xticks(range(min(dictionary_of_freq_of_sum.keys()), max(dictionary_of_freq_of_sum.keys()) + 1))\n",
    "\n",
    "plt.show()\n"
   ]
  },
  {
   "cell_type": "code",
   "execution_count": 176,
   "metadata": {},
   "outputs": [],
   "source": [
    "dictionary_of_freq_of_sum = {}\n",
    "sums = []"
   ]
  },
  {
   "cell_type": "code",
   "execution_count": 177,
   "metadata": {},
   "outputs": [
    {
     "name": "stdout",
     "output_type": "stream",
     "text": [
      "{}\n",
      "[]\n"
     ]
    }
   ],
   "source": [
    "print(dictionary_of_freq_of_sum)\n",
    "print(sums)"
   ]
  },
  {
   "cell_type": "code",
   "execution_count": 178,
   "metadata": {},
   "outputs": [],
   "source": [
    "for epoch in range(1000):\n",
    "    sum_of_four_rolls = 0\n",
    "    for _ in range(8):\n",
    "        result = biased_die_roll(4)\n",
    "        sum_of_four_rolls += result\n",
    "    sums.append(sum_of_four_rolls)\n",
    "    # print(result)\n",
    "    if sum_of_four_rolls not in dictionary_of_freq_of_sum:\n",
    "        dictionary_of_freq_of_sum[sum_of_four_rolls] = 1\n",
    "    else:\n",
    "        dictionary_of_freq_of_sum[sum_of_four_rolls] += 1\n",
    "\n",
    "        "
   ]
  },
  {
   "cell_type": "code",
   "execution_count": 179,
   "metadata": {},
   "outputs": [
    {
     "name": "stdout",
     "output_type": "stream",
     "text": [
      "{15: 38, 17: 122, 22: 72, 23: 45, 20: 146, 19: 179, 16: 83, 18: 150, 21: 109, 13: 7, 24: 17, 14: 21, 26: 3, 25: 8}\n"
     ]
    }
   ],
   "source": [
    "    \n",
    "print(dictionary_of_freq_of_sum)"
   ]
  },
  {
   "cell_type": "code",
   "execution_count": 180,
   "metadata": {},
   "outputs": [],
   "source": [
    "sorted_sums = sorted(sums)\n"
   ]
  },
  {
   "cell_type": "code",
   "execution_count": 181,
   "metadata": {},
   "outputs": [],
   "source": [
    "n = len(sorted_sums)"
   ]
  },
  {
   "cell_type": "code",
   "execution_count": 182,
   "metadata": {},
   "outputs": [],
   "source": [
    "Q1 = np.percentile(sorted_sums, 25)"
   ]
  },
  {
   "cell_type": "code",
   "execution_count": 183,
   "metadata": {},
   "outputs": [],
   "source": [
    "n = len(sorted_sums)\n",
    "\n",
    "if n % 2 == 0:\n",
    "    # Calculate the median for even n\n",
    "    median = (sorted_sums[n // 2 - 1] + sorted_sums[n // 2]) / 2\n",
    "else:\n",
    "    # Calculate the median for odd n\n",
    "    median = sorted_sums[n // 2]\n"
   ]
  },
  {
   "cell_type": "code",
   "execution_count": 184,
   "metadata": {},
   "outputs": [],
   "source": [
    "Q3 = np.percentile(sorted_sums, 75)"
   ]
  },
  {
   "cell_type": "code",
   "execution_count": 185,
   "metadata": {},
   "outputs": [],
   "source": [
    "\n",
    "bowleys_coefficient = (Q3 + Q1 - 2 * median) / (Q3 - Q1)"
   ]
  },
  {
   "cell_type": "code",
   "execution_count": 186,
   "metadata": {},
   "outputs": [
    {
     "name": "stdout",
     "output_type": "stream",
     "text": [
      "Bowley's Coefficient: 0.0\n"
     ]
    }
   ],
   "source": [
    "# Round the bowleys_coefficient to 4 decimal places\n",
    "bowleys_coefficient = round(bowleys_coefficient, 10)\n",
    "\n",
    "print(f\"Bowley's Coefficient: {bowleys_coefficient}\")\n"
   ]
  },
  {
   "cell_type": "code",
   "execution_count": 187,
   "metadata": {},
   "outputs": [
    {
     "data": {
      "image/png": "[encoded data removed]",
      "text/plain": [
       "<Figure size 640x480 with 1 Axes>"
      ]
     },
     "metadata": {},
     "output_type": "display_data"
    }
   ],
   "source": [
    "plt.bar(dictionary_of_freq_of_sum.keys(), dictionary_of_freq_of_sum.values())\n",
    "plt.xlabel('Sum of Upward Face Values')\n",
    "plt.ylabel('Frequency')\n",
    "plt.title(f'Frequency Distribution Histogram (k={k})')\n",
    "\n",
    "# Adjust x-axis ticks to display a reasonable range of values\n",
    "plt.xticks(range(min(dictionary_of_freq_of_sum.keys()), max(dictionary_of_freq_of_sum.keys()) + 1))\n",
    "\n",
    "plt.show()\n"
   ]
  },
  {
   "cell_type": "code",
   "execution_count": 188,
   "metadata": {},
   "outputs": [],
   "source": [
    "dictionary_of_freq_of_sum = {}\n",
    "sums = []"
   ]
  },
  {
   "cell_type": "code",
   "execution_count": 189,
   "metadata": {},
   "outputs": [
    {
     "name": "stdout",
     "output_type": "stream",
     "text": [
      "{}\n",
      "[]\n"
     ]
    }
   ],
   "source": [
    "print(dictionary_of_freq_of_sum)\n",
    "print(sums)"
   ]
  },
  {
   "cell_type": "code",
   "execution_count": 190,
   "metadata": {},
   "outputs": [
    {
     "name": "stdout",
     "output_type": "stream",
     "text": [
      "16\n"
     ]
    }
   ],
   "source": [
    "biased_die = BiasedDie(16)\n",
    "print(biased_die.k)"
   ]
  },
  {
   "cell_type": "code",
   "execution_count": 191,
   "metadata": {},
   "outputs": [],
   "source": [
    "for epoch in range(1000):\n",
    "    sum_of_four_rolls = 0\n",
    "    for _ in range(4):\n",
    "        result = biased_die_roll(16)\n",
    "        sum_of_four_rolls += result\n",
    "    sums.append(sum_of_four_rolls)\n",
    "    # print(result)\n",
    "    if sum_of_four_rolls not in dictionary_of_freq_of_sum:\n",
    "        dictionary_of_freq_of_sum[sum_of_four_rolls] = 1\n",
    "    else:\n",
    "        dictionary_of_freq_of_sum[sum_of_four_rolls] += 1\n",
    "\n",
    "        "
   ]
  },
  {
   "cell_type": "code",
   "execution_count": 192,
   "metadata": {},
   "outputs": [
    {
     "name": "stdout",
     "output_type": "stream",
     "text": [
      "{11: 163, 9: 150, 16: 38, 12: 131, 10: 147, 13: 88, 8: 71, 17: 33, 15: 52, 18: 13, 19: 13, 21: 6, 14: 88, 20: 2, 25: 1, 22: 2, 23: 1, 24: 1}\n"
     ]
    }
   ],
   "source": [
    "    \n",
    "print(dictionary_of_freq_of_sum)"
   ]
  },
  {
   "cell_type": "code",
   "execution_count": 193,
   "metadata": {},
   "outputs": [],
   "source": [
    "sorted_sums = sorted(sums)\n",
    "n = len(sorted_sums)"
   ]
  },
  {
   "cell_type": "code",
   "execution_count": 194,
   "metadata": {},
   "outputs": [],
   "source": [
    "\n",
    "n = len(sorted_sums)\n",
    "Q1 = np.percentile(sorted_sums, 25)\n",
    "if n % 2 == 0:\n",
    "    # Calculate the median for even n\n",
    "    median = (sorted_sums[n // 2 - 1] + sorted_sums[n // 2]) / 2\n",
    "else:\n",
    "    # Calculate the median for odd n\n",
    "    median = sorted_sums[n // 2]\n",
    "Q3 = np.percentile(sorted_sums, 75)\n",
    "bowleys_coefficient = (Q3 + Q1 - 2 * median) / (Q3 - Q1)\n"
   ]
  },
  {
   "cell_type": "code",
   "execution_count": 195,
   "metadata": {},
   "outputs": [
    {
     "name": "stdout",
     "output_type": "stream",
     "text": [
      "Bowley's Coefficient: 0.3846153846\n"
     ]
    }
   ],
   "source": [
    "# Round the bowleys_coefficient to 4 decimal places\n",
    "bowleys_coefficient = round(bowleys_coefficient, 10)\n",
    "\n",
    "print(f\"Bowley's Coefficient: {bowleys_coefficient}\")\n",
    "\n",
    "\n"
   ]
  },
  {
   "cell_type": "code",
   "execution_count": 196,
   "metadata": {},
   "outputs": [
    {
     "data": {
      "image/png": "[encoded data removed]",
      "text/plain": [
       "<Figure size 640x480 with 1 Axes>"
      ]
     },
     "metadata": {},
     "output_type": "display_data"
    }
   ],
   "source": [
    "plt.bar(dictionary_of_freq_of_sum.keys(), dictionary_of_freq_of_sum.values())\n",
    "plt.xlabel('Sum of Upward Face Values')\n",
    "plt.ylabel('Frequency')\n",
    "plt.title(f'Frequency Distribution Histogram (k={k})')\n",
    "\n",
    "# Adjust x-axis ticks to display a reasonable range of values\n",
    "plt.xticks(range(min(dictionary_of_freq_of_sum.keys()), max(dictionary_of_freq_of_sum.keys()) + 1))\n",
    "\n",
    "plt.show()\n"
   ]
  },
  {
   "cell_type": "markdown",
   "metadata": {},
   "source": [
    "Bowley's coefficient for the three scenarios (4 rolls, 8 rolls, and 16 rolls) with 1000 trials each, considering the Central Limit Theorem (CLT):\n",
    "\n",
    "1st case k = 4 , 4 Rolls Summed 1000 Times  :\n",
    "\n",
    "With only 4 rolls, the sample size is relatively small. The CLT might not have a significant impact on the distribution of the sum of the face values. Since the values on left side have higher probability it is skewed. The distribution is influenced by the probabilities assigned to each face of the die (biased distribution). However, due to the small sample size, the CLT may not lead to a distribution that closely resembles a normal distribution.\n",
    "\n",
    "Bowley's Coefficient: In this case, the distribution is expected to exhibit some level of skewness based on the biased probabilities.  The distribution is somewhat skewed, but is not exhibiting a pronounced tail. ~ 0.333\n",
    "\n",
    "2nd case k = 4 , 8 Rolls Summed 1000 Times:\n",
    "\n",
    "Central Limit Theorem (CLT): With 8 rolls, the sample size is larger than in the previous scenario. The CLT starts to become more relevant. As you sum the face values from 8 rolls, the distribution of the sum is expected to become more symmetric and approach a normal distribution. The CLT suggests that the distribution will be less skewed compared to the 4-roll scenario.\n",
    "\n",
    "Bowley's Coefficient: With the larger sample size and a more symmetric distribution due to the CLT, Bowley's coefficient is expected to be closer to 0. The distribution still exhibit some skewness, but it would likely be less pronounced compared to the 4-roll scenario. ~0\n",
    "\n",
    "3rd case 16 Rolls Summed 1000 Times:\n",
    "\n",
    "Central Limit Theorem (CLT): The sample size is the smaller than previous one and the number of values are also increased in this \n",
    "scenario. With only 4 rolls, the distributtion is very skewed because of large sample size . The distribution of the sum is expected to be much closer to a normal distribution. Hence , it's very skewed because of this reason.\n",
    "\n",
    "Bowley's Coefficient: With the largest sample size , and smaller number of rolls , the curve is very skewed in this case. And hence value's approx near ~0.5\n",
    "\n",
    "In summary, as the number of rolls increases, the influence of the Central Limit Theorem becomes more pronounced. With a larger sample size, the distribution of the sum of the face values approaches normality and becomes less skewed. Consequently, Bowley's coefficient is expected to decrease, approaching 0, indicating a more symmetric distribution as you move from 4 rolls to 8 rolls and then to 16 rolls.\n",
    "~0\n",
    "\n",
    "\n",
    "\n",
    "\n"
   ]
  }
 ],
 "metadata": {
  "kernelspec": {
   "display_name": "base",
   "language": "python",
   "name": "python3"
  },
  "language_info": {
   "codemirror_mode": {
    "name": "ipython",
    "version": 3
   },
   "file_extension": ".py",
   "mimetype": "text/x-python",
   "name": "python",
   "nbconvert_exporter": "python",
   "pygments_lexer": "ipython3",
   "version": "3.10.9"
  },
  "orig_nbformat": 4
 },
 "nbformat": 4,
 "nbformat_minor": 2
}
