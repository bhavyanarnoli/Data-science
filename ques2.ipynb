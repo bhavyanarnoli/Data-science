{
 "cells": [
  {
   "cell_type": "code",
   "execution_count": 87,
   "metadata": {},
   "outputs": [],
   "source": [
    "import numpy as np\n"
   ]
  },
  {
   "cell_type": "markdown",
   "metadata": {},
   "source": [
    "## Prepare the data for the calculations"
   ]
  },
  {
   "cell_type": "code",
   "execution_count": 88,
   "metadata": {},
   "outputs": [],
   "source": [
    "# Define the start and end values, as well as the increment\n",
    "start_value = 0.01\n",
    "end_value = 1000\n",
    "increment = 0.01"
   ]
  },
  {
   "cell_type": "code",
   "execution_count": 89,
   "metadata": {},
   "outputs": [],
   "source": [
    "# Create an array of data points\n",
    "data_points = np.arange(start_value, end_value + increment, increment)"
   ]
  },
  {
   "cell_type": "code",
   "execution_count": 90,
   "metadata": {},
   "outputs": [
    {
     "name": "stdout",
     "output_type": "stream",
     "text": [
      "[0.01 0.02 0.03 0.04 0.05 0.06 0.07 0.08 0.09 0.1 ]\n",
      "100000\n"
     ]
    }
   ],
   "source": [
    "# Print the first few data points as an example\n",
    "print(data_points[:10])  # This will print the first 10 data points\n",
    "print(len(data_points))\n"
   ]
  },
  {
   "cell_type": "markdown",
   "metadata": {},
   "source": [
    "### (a) Compute σ2 of the population D. Let’s call σ2 the true variance of the population D."
   ]
  },
  {
   "cell_type": "code",
   "execution_count": 91,
   "metadata": {},
   "outputs": [
    {
     "name": "stdout",
     "output_type": "stream",
     "text": [
      "500.005\n"
     ]
    }
   ],
   "source": [
    "meanofallpoints = sum(data_points)/len(data_points)\n",
    "print(meanofallpoints)"
   ]
  },
  {
   "cell_type": "code",
   "execution_count": 92,
   "metadata": {},
   "outputs": [],
   "source": [
    "def calculate_variance(data_points):\n",
    "    # Calculate the mean (average) of the data points\n",
    "    mean = sum(data_points) / len(data_points)\n",
    "\n",
    "    # Calculate the squared differences from the mean\n",
    "    squared_diff = [(x - mean) ** 2 for x in data_points]\n",
    "\n",
    "    # Calculate the variance as the average of the squared differences\n",
    "    variance = sum(squared_diff) / len(data_points)\n",
    "\n",
    "    return variance\n"
   ]
  },
  {
   "cell_type": "code",
   "execution_count": 93,
   "metadata": {},
   "outputs": [
    {
     "name": "stdout",
     "output_type": "stream",
     "text": [
      "Variance: 83333.333325\n"
     ]
    }
   ],
   "source": [
    "\n",
    "result = calculate_variance(data_points)\n",
    "print(\"Variance:\", result)\n"
   ]
  },
  {
   "cell_type": "markdown",
   "metadata": {},
   "source": [
    "True variance of population : 83333.333325"
   ]
  },
  {
   "cell_type": "markdown",
   "metadata": {},
   "source": [
    "#### Random generator"
   ]
  },
  {
   "cell_type": "code",
   "execution_count": 94,
   "metadata": {},
   "outputs": [],
   "source": [
    "import time\n",
    "\n",
    "class SimpleRandom:\n",
    "    def __init__(self, seed=None):\n",
    "        if seed is None:\n",
    "            seed = int(time.time() * 1000000) % 1000000\n",
    "        self.state = seed\n",
    "\n",
    "    def rand(self):\n",
    "        a = 1664525\n",
    "        c = 1013904223\n",
    "        m = 2**32\n",
    "        self.state = (a * self.state + c) % m\n",
    "        return self.state\n",
    "    def randrange(self, start, stop):\n",
    "\n",
    "        range_size = stop - start\n",
    "        rand_num = self.rand() % range_size\n",
    "        return start + rand_num\n",
    "\n",
    "    def generaterandomnuniquenumbers(self, n, func):\n",
    "        if n <= 0:\n",
    "            return set()\n",
    "\n",
    "        unique_numbers = set()\n",
    "        while len(unique_numbers) < n:\n",
    "            unique_numbers.add(func())\n",
    "\n",
    "        return unique_numbers\n",
    "\n",
    "    def generaterandomnrangeuniquenumbers(self, n, start, stop):\n",
    "        if n <= 0 or start >= stop:\n",
    "            return set()\n",
    "\n",
    "        range_size = stop - start\n",
    "        if n > range_size:\n",
    "            n = range_size\n",
    "\n",
    "        unique_numbers = []\n",
    "        while len(unique_numbers) < n:\n",
    "            num = self.randrange(start, stop)\n",
    "            if num not in unique_numbers:\n",
    "                unique_numbers.append(num)\n",
    "\n",
    "        return unique_numbers\n",
    "\n"
   ]
  },
  {
   "cell_type": "code",
   "execution_count": 95,
   "metadata": {},
   "outputs": [
    {
     "name": "stdout",
     "output_type": "stream",
     "text": [
      "<__main__.SimpleRandom object at 0x000001FEE0548580>\n"
     ]
    }
   ],
   "source": [
    "random_generator = SimpleRandom()\n",
    "print(random_generator)"
   ]
  },
  {
   "cell_type": "markdown",
   "metadata": {},
   "source": [
    "#### Use sampling with replacement, to randomly sample 50 points {y1, . . . , y50} from the population D, i.e., for 1 ≤ i ≤ 50, yi ∈ D. Compute s1, s2 and s3 defined as"
   ]
  },
  {
   "cell_type": "markdown",
   "metadata": {},
   "source": [
    "### Choosing random 50 points"
   ]
  },
  {
   "cell_type": "code",
   "execution_count": 96,
   "metadata": {},
   "outputs": [],
   "source": [
    "fiftypoints= []\n",
    "totalpoints = 100000"
   ]
  },
  {
   "cell_type": "code",
   "execution_count": 97,
   "metadata": {},
   "outputs": [],
   "source": [
    "# Choose 50 unique indexes without repetition\n",
    "while len(fiftypoints) < 50 :\n",
    "    index = random_generator.rand() % totalpoints\n",
    "    # if index not in fiftyindex:\n",
    "    fiftypoints.append(data_points[index])\n"
   ]
  },
  {
   "cell_type": "code",
   "execution_count": 98,
   "metadata": {},
   "outputs": [
    {
     "name": "stdout",
     "output_type": "stream",
     "text": [
      "[763.78, 436.85, 233.79999999999998, 980.71, 39.019999999999996, 81.21000000000001, 111.60000000000001, 956.59, 445.46, 231.81, 629.72, 461.11, 894.14, 985.9300000000001, 536.0, 56.19, 52.26, 523.73, 205.79999999999998, 457.35, 951.82, 269.21, 466.32, 803.79, 688.18, 138.85, 352.76, 149.26999999999998, 573.98, 810.09, 267.04, 544.67, 343.3, 360.05, 736.2, 828.39, 840.62, 175.29, 385.84, 256.43, 701.46, 357.25, 910.6800000000001, 327.35, 660.54, 171.85, 53.76, 808.19, 736.42, 428.37]\n"
     ]
    }
   ],
   "source": [
    "print(fiftypoints)"
   ]
  },
  {
   "cell_type": "code",
   "execution_count": 99,
   "metadata": {},
   "outputs": [
    {
     "name": "stdout",
     "output_type": "stream",
     "text": [
      "763.78\n",
      "436.85\n",
      "233.79999999999998\n",
      "980.71\n",
      "39.019999999999996\n",
      "81.21000000000001\n",
      "111.60000000000001\n",
      "956.59\n",
      "445.46\n",
      "231.81\n",
      "629.72\n",
      "461.11\n",
      "894.14\n",
      "985.9300000000001\n",
      "536.0\n",
      "56.19\n",
      "52.26\n",
      "523.73\n",
      "205.79999999999998\n",
      "457.35\n",
      "951.82\n",
      "269.21\n",
      "466.32\n",
      "803.79\n",
      "688.18\n",
      "138.85\n",
      "352.76\n",
      "149.26999999999998\n",
      "573.98\n",
      "810.09\n",
      "267.04\n",
      "544.67\n",
      "343.3\n",
      "360.05\n",
      "736.2\n",
      "828.39\n",
      "840.62\n",
      "175.29\n",
      "385.84\n",
      "256.43\n",
      "701.46\n",
      "357.25\n",
      "910.6800000000001\n",
      "327.35\n",
      "660.54\n",
      "171.85\n",
      "53.76\n",
      "808.19\n",
      "736.42\n",
      "428.37\n"
     ]
    }
   ],
   "source": [
    "for i in range(50):\n",
    "  print(fiftypoints[i])\n",
    "  \n"
   ]
  },
  {
   "cell_type": "code",
   "execution_count": 100,
   "metadata": {},
   "outputs": [
    {
     "name": "stdout",
     "output_type": "stream",
     "text": [
      "483.62059999999985\n"
     ]
    }
   ],
   "source": [
    "meanoffiftypoints = sum(fiftypoints) /50\n",
    "print( meanoffiftypoints)"
   ]
  },
  {
   "cell_type": "code",
   "execution_count": 101,
   "metadata": {},
   "outputs": [],
   "source": [
    "numerators = [ (x - meanoffiftypoints) ** 2 for x in fiftypoints]"
   ]
  },
  {
   "cell_type": "code",
   "execution_count": 102,
   "metadata": {},
   "outputs": [
    {
     "name": "stdout",
     "output_type": "stream",
     "text": [
      "[78489.28940836007, 2187.4890243599843, 62410.33218435993, 247097.87159236017, 197669.6935203599, 161934.29099235986, 138399.3268243599, 223700.05333636017, 1456.2313923599904, 63408.578272359926, 21345.03468036005, 506.7271123599928, 168526.1777763601, 252314.73332836022, 2743.6015443600154, 182696.91781635987, 186071.9672323599, 1608.7639683600132, 77184.28578435995, 690.1444243599911, 219210.67816036017, 45971.90539235995, 299.3107603599952, 102508.44469636006, 41844.54812836004, 118866.76662435988, 17124.496632359966, 111790.32372035991, 8164.821168360029, 106582.26913636012, 46907.15629635993, 3727.029240360013, 19689.870784359955, 15269.693184359961, 63796.3533043601, 118865.93917636009, 127448.57160036011, 95067.75889635993, 9561.045736359976, 51615.56872835993, 47454.00419236008, 15969.528544359962, 182379.73112836017, 24420.500424359947, 31300.474096360038, 97200.9070243599, 184780.13543235988, 105345.29541636012, 63907.53664036006, 3052.6288003599834]\n"
     ]
    }
   ],
   "source": [
    "print(numerators)"
   ]
  },
  {
   "cell_type": "code",
   "execution_count": 103,
   "metadata": {},
   "outputs": [],
   "source": [
    "numerator_after_addsquare_mean = sum(numerators)"
   ]
  },
  {
   "cell_type": "code",
   "execution_count": 104,
   "metadata": {},
   "outputs": [
    {
     "name": "stdout",
     "output_type": "stream",
     "text": [
      "4150564.8032819997\n"
     ]
    }
   ],
   "source": [
    "print(numerator_after_addsquare_mean)"
   ]
  },
  {
   "cell_type": "code",
   "execution_count": 105,
   "metadata": {},
   "outputs": [
    {
     "name": "stdout",
     "output_type": "stream",
     "text": [
      "s1square is  81383.6235937647\n"
     ]
    }
   ],
   "source": [
    "s1square = numerator_after_addsquare_mean/51\n",
    "print(\"s1square is \" , s1square)"
   ]
  },
  {
   "cell_type": "code",
   "execution_count": 106,
   "metadata": {},
   "outputs": [
    {
     "name": "stdout",
     "output_type": "stream",
     "text": [
      "s2square is  83011.29606564\n"
     ]
    }
   ],
   "source": [
    "s2square = numerator_after_addsquare_mean/50\n",
    "print(\"s2square is \" , s2square)"
   ]
  },
  {
   "cell_type": "code",
   "execution_count": 107,
   "metadata": {},
   "outputs": [
    {
     "name": "stdout",
     "output_type": "stream",
     "text": [
      "s3square is  84705.40414861224\n"
     ]
    }
   ],
   "source": [
    "s3square = numerator_after_addsquare_mean/ 49\n",
    "print(\"s3square is \" , s3square)"
   ]
  },
  {
   "cell_type": "markdown",
   "metadata": {},
   "source": [
    "-----------------------------------------------------------------------------------------------------------------------------"
   ]
  },
  {
   "cell_type": "code",
   "execution_count": 108,
   "metadata": {},
   "outputs": [],
   "source": [
    "averagescoreofs1_2 = 0\n",
    "averagescoreofs2_2 = 0\n",
    "averagescoreofs3_2 = 0\n"
   ]
  },
  {
   "cell_type": "code",
   "execution_count": 109,
   "metadata": {},
   "outputs": [],
   "source": [
    "import matplotlib.pyplot as plt"
   ]
  },
  {
   "cell_type": "code",
   "execution_count": 110,
   "metadata": {},
   "outputs": [],
   "source": [
    "# Number of iterations\n",
    "num_iterations = 10  # You can change this to the desired number of iterations"
   ]
  },
  {
   "cell_type": "code",
   "execution_count": 111,
   "metadata": {},
   "outputs": [],
   "source": [
    "# Initialize average scores\n",
    "avg_s1_squared = 0\n",
    "avg_s2_squared = 0\n",
    "avg_s3_squared = 0"
   ]
  },
  {
   "cell_type": "code",
   "execution_count": 112,
   "metadata": {},
   "outputs": [],
   "source": [
    "avg_s1_squared_list = []\n",
    "avg_s2_squared_list = []\n",
    "avg_s3_squared_list = []"
   ]
  },
  {
   "cell_type": "code",
   "execution_count": 113,
   "metadata": {},
   "outputs": [
    {
     "name": "stdout",
     "output_type": "stream",
     "text": [
      "value of average , avg_s1_squared  82512.80775250979\n",
      "value of average , avg_s2_squared  84163.06390755998\n",
      "value of average , avg_s3_squared  85880.67745669385\n",
      "value of average , avg_s1_squared  83339.7772649804\n",
      "value of average , avg_s2_squared  85006.57281027999\n",
      "value of average , avg_s3_squared  86741.40082681633\n",
      "value of average , avg_s1_squared  82499.47044762093\n",
      "value of average , avg_s2_squared  84149.45985657333\n",
      "value of average , avg_s3_squared  85866.79577201362\n",
      "value of average , avg_s1_squared  81161.57600756864\n",
      "value of average , avg_s2_squared  82784.80752772\n",
      "value of average , avg_s3_squared  84474.29339563267\n",
      "value of average , avg_s1_squared  81496.32738432157\n",
      "value of average , avg_s2_squared  83126.253932008\n",
      "value of average , avg_s3_squared  84822.70809388573\n",
      "value of average , avg_s1_squared  85163.40293818302\n",
      "value of average , avg_s2_squared  86866.67099694668\n",
      "value of average , avg_s3_squared  88639.460200966\n",
      "value of average , avg_s1_squared  84155.22967824651\n",
      "value of average , avg_s2_squared  85838.33427181143\n",
      "value of average , avg_s3_squared  87590.1370120525\n",
      "value of average , avg_s1_squared  84980.74632631373\n",
      "value of average , avg_s2_squared  86680.36125284\n",
      "value of average , avg_s3_squared  88449.3482171837\n",
      "value of average , avg_s1_squared  85217.71339517648\n",
      "value of average , avg_s2_squared  86922.06766308\n",
      "value of average , avg_s3_squared  88695.98741130614\n",
      "value of average , avg_s1_squared  84573.4996676157\n",
      "value of average , avg_s2_squared  86264.96966096801\n",
      "value of average , avg_s3_squared  88025.47924588573\n"
     ]
    }
   ],
   "source": [
    "# Perform multiple iterations\n",
    "for iteration in range(num_iterations):\n",
    "    # Perform sampling with replacement to randomly select 50 points from the population\n",
    "    fiftypoints= []\n",
    "    totalpoints = 100000\n",
    "    sample_size = 50\n",
    "    # Choose 50 unique indexes without repetition\n",
    "    while len(fiftypoints) < 50 :\n",
    "        index = random_generator.rand() % totalpoints\n",
    "        # if index not in fiftyindex:\n",
    "        fiftypoints.append(data_points[index])\n",
    "\n",
    "    meanoffiftypoints = sum(fiftypoints) /50\n",
    "    numerators = [ (x - meanoffiftypoints) ** 2 for x in fiftypoints]\n",
    "    numerator_after_addsquare_mean = sum(numerators)\n",
    "    \n",
    "    # Calculate s^2_1, s^2_2, and s^2_3 for the current iteration\n",
    "    s1_squared = numerator_after_addsquare_mean/51 # Sample variance with population correction\n",
    "    s2_squared = numerator_after_addsquare_mean/50  # Sample variance with Bessel's correction\n",
    "    s3_squared = numerator_after_addsquare_mean/49  # Sample variance with another degree of freedom\n",
    "    avg_s1_squared_list.append(s1_squared)\n",
    "    avg_s2_squared_list.append(s2_squared)\n",
    "    avg_s3_squared_list.append(s3_squared)\n",
    "\n",
    "    # Update the average scores\n",
    "    avg_s1_squared = (avg_s1_squared * iteration + s1_squared) / (iteration + 1)\n",
    "    print(\"value of average , avg_s1_squared \" ,avg_s1_squared )\n",
    "    avg_s2_squared = (avg_s2_squared * iteration + s2_squared) / (iteration + 1)\n",
    "    print( \"value of average , avg_s2_squared \" ,avg_s2_squared )\n",
    "    avg_s3_squared = (avg_s3_squared * iteration + s3_squared) / (iteration + 1)\n",
    "    print( \"value of average , avg_s3_squared \" ,avg_s3_squared )\n",
    "    \n",
    "\n"
   ]
  },
  {
   "cell_type": "code",
   "execution_count": 114,
   "metadata": {},
   "outputs": [
    {
     "name": "stdout",
     "output_type": "stream",
     "text": [
      "Average s^2_1: 84573.4996676157\n",
      "Average s^2_2: 86264.96966096801\n",
      "Average s^2_3: 88025.47924588573\n"
     ]
    }
   ],
   "source": [
    "# Print the average scores after multiple iterations\n",
    "print(\"Average s^2_1:\", avg_s1_squared)\n",
    "print(\"Average s^2_2:\", avg_s2_squared)\n",
    "print(\"Average s^2_3:\", avg_s3_squared)\n"
   ]
  },
  {
   "cell_type": "markdown",
   "metadata": {},
   "source": [
    "### (d) Use three different scatter plots to visualize the change in Avgs2 i , for 1 ≤ i ≤ 3 over increasing number of iterations and compare it with σ2 the true variance of D."
   ]
  },
  {
   "cell_type": "code",
   "execution_count": 116,
   "metadata": {},
   "outputs": [
    {
     "data": {
      "image/png": "[encoded data removed]",
      "text/plain": [
       "<Figure size 1200x600 with 3 Axes>"
      ]
     },
     "metadata": {},
     "output_type": "display_data"
    }
   ],
   "source": [
    "plt.figure(figsize=(12, 6))\n",
    "\n",
    "# Scatter plot for Avg s^2_1\n",
    "plt.subplot(131)\n",
    "plt.scatter(iterations, avg_s1_squared_list, label='Avg s^2_1', alpha=0.5)\n",
    "plt.axhline(y=result, color='r', linestyle='--', label='True Variance (σ^2)')\n",
    "plt.xlabel('Iterations')\n",
    "plt.ylabel('Average Variance')\n",
    "plt.title('Change in Avg s^2_1 Over Iterations')\n",
    "plt.legend()\n",
    "plt.grid(True)\n",
    "\n",
    "# Scatter plot for Avg s^2_2\n",
    "plt.subplot(132)\n",
    "plt.scatter(iterations, avg_s2_squared_list, label='Avg s^2_2', alpha=0.5)\n",
    "plt.axhline(y=result, color='r', linestyle='--', label='True Variance (σ^2)')\n",
    "plt.xlabel('Iterations')\n",
    "plt.ylabel('Average Variance')\n",
    "plt.title('Change in Avg s^2_2 Over Iterations')\n",
    "plt.legend()\n",
    "plt.grid(True)\n",
    "\n",
    "# Scatter plot for Avg s^2_3\n",
    "plt.subplot(133)\n",
    "plt.scatter(iterations, avg_s3_squared_list, label='Avg s^2_3', alpha=0.5)\n",
    "plt.axhline(y=result, color='r', linestyle='--', label='True Variance (σ^2)')\n",
    "plt.xlabel('Iterations')\n",
    "plt.ylabel('Average Variance')\n",
    "plt.title('Change in Avg s^2_3 Over Iterations')\n",
    "plt.legend()\n",
    "plt.grid(True)\n",
    "\n",
    "# Adjust layout and show the plots\n",
    "plt.tight_layout()\n",
    "plt.show()\n"
   ]
  },
  {
   "cell_type": "code",
   "execution_count": null,
   "metadata": {},
   "outputs": [],
   "source": []
  },
  {
   "cell_type": "code",
   "execution_count": null,
   "metadata": {},
   "outputs": [],
   "source": []
  },
  {
   "cell_type": "markdown",
   "metadata": {},
   "source": [
    "# PART D NOT DONE"
   ]
  }
 ],
 "metadata": {
  "kernelspec": {
   "display_name": "base",
   "language": "python",
   "name": "python3"
  },
  "language_info": {
   "codemirror_mode": {
    "name": "ipython",
    "version": 3
   },
   "file_extension": ".py",
   "mimetype": "text/x-python",
   "name": "python",
   "nbconvert_exporter": "python",
   "pygments_lexer": "ipython3",
   "version": "3.10.9"
  },
  "orig_nbformat": 4
 },
 "nbformat": 4,
 "nbformat_minor": 2
}
