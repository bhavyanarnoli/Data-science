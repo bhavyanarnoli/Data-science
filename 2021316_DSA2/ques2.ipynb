{
 "cells": [
  {
   "cell_type": "markdown",
   "metadata": {},
   "source": [
    "Therefore, the probability Pn that no two people share a birthday in a group of n people is:\n",
    "\n"
   ]
  },
  {
   "cell_type": "markdown",
   "metadata": {},
   "source": [
    "P_22 is approximately 0.4757\n",
    "P_23 is approximately 0.5073"
   ]
  },
  {
   "cell_type": "code",
   "execution_count": 17,
   "metadata": {},
   "outputs": [
    {
     "name": "stdout",
     "output_type": "stream",
     "text": [
      "P_23 is approximately 0.5073\n"
     ]
    }
   ],
   "source": [
    "def calculate_P_n(n):\n",
    "    P_n = 1\n",
    "    for i in range(n):\n",
    "        P_n *= (365 - i) / 365\n",
    "    return P_n\n",
    "\n",
    "n = 23\n",
    "result =1- calculate_P_n(n)\n",
    "# result = result\n",
    "print(f\"P_{n} is approximately {result:.4f}\")\n"
   ]
  },
  {
   "cell_type": "code",
   "execution_count": null,
   "metadata": {},
   "outputs": [],
   "source": [
    "n = 1\n",
    "\n",
    "while(True):\n",
    "  result =1- calculate_P_n(n)\n",
    "  if( result > 0.75) :\n",
    "    print(n)\n",
    "    break\n",
    "  else:\n",
    "    n += 1\n",
    "  \n",
    "  "
   ]
  }
 ],
 "metadata": {
  "kernelspec": {
   "display_name": "base",
   "language": "python",
   "name": "python3"
  },
  "language_info": {
   "codemirror_mode": {
    "name": "ipython",
    "version": 3
   },
   "file_extension": ".py",
   "mimetype": "text/x-python",
   "name": "python",
   "nbconvert_exporter": "python",
   "pygments_lexer": "ipython3",
   "version": "3.10.9"
  }
 },
 "nbformat": 4,
 "nbformat_minor": 2
}
