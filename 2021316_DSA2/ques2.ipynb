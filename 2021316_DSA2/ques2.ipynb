{
 "cells": [
  {
   "cell_type": "markdown",
   "metadata": {},
   "source": [
    "## ques 2 a calculate_P_n is basically calculating the probability that no one share their birthday , 1- pn gives the probability of atleast two people sharing birthday. "
   ]
  },
  {
   "cell_type": "markdown",
   "metadata": {},
   "source": [
    "#### Probability of atleast 2 people sharing birthday is =  1 -  P( all people have unique birth dates)\n",
    "#### P = 1 - (365/365 *( 365-1/365) *( (365 -1 - 1)/365) *(...) *(365-i-1/365)) \n",
    "#### This will give the value from the function calculate_P_n(n): where n = i"
   ]
  },
  {
   "cell_type": "code",
   "execution_count": 15,
   "metadata": {},
   "outputs": [
    {
     "name": "stdout",
     "output_type": "stream",
     "text": [
      "P_23 is approximately 0.5072972343\n"
     ]
    }
   ],
   "source": [
    "def calculate_P_n(n):\n",
    "    P_n = 1\n",
    "    for i in range(n):\n",
    "        P_n *= (365 - i) / 365\n",
    "    return P_n\n",
    "\n",
    "n = 23\n",
    "result =1- calculate_P_n(n)\n",
    "print(f\"P_{n} is approximately {result:.10f}\")\n"
   ]
  },
  {
   "cell_type": "markdown",
   "metadata": {},
   "source": [
    "P_22 is approximately 0.4757\n",
    "P_23 is approximately 0.5073"
   ]
  },
  {
   "cell_type": "markdown",
   "metadata": {},
   "source": [
    "-------------------------------"
   ]
  },
  {
   "cell_type": "markdown",
   "metadata": {},
   "source": [
    "Ques 2) b) basically iterate for all values of number of value until the probability  at least two will share a birthday is more than 75% then break"
   ]
  },
  {
   "cell_type": "code",
   "execution_count": 16,
   "metadata": {},
   "outputs": [
    {
     "name": "stdout",
     "output_type": "stream",
     "text": [
      "minimum value of n such that the probability is just more than 75% is 32\n"
     ]
    }
   ],
   "source": [
    "n = 1\n",
    "while(True):\n",
    "  result =1- calculate_P_n(n)\n",
    "  if( result > 0.75) :\n",
    "    print(\"minimum value of n such that the probability is just more than 75% is\", n)\n",
    "    break\n",
    "  else:\n",
    "    n += 1\n",
    "  \n",
    "  "
   ]
  },
  {
   "cell_type": "markdown",
   "metadata": {},
   "source": [
    "### Similary here we are given the value of probability and we have to find least n value for the same\n",
    "#### It can be done using starting from n = 1 till where the probability is just more than 75% we break the loop\n",
    "\n",
    "# Answer is 32"
   ]
  },
  {
   "cell_type": "markdown",
   "metadata": {},
   "source": [
    "---------------------"
   ]
  },
  {
   "cell_type": "markdown",
   "metadata": {},
   "source": [
    "ques 2 c ) "
   ]
  },
  {
   "cell_type": "markdown",
   "metadata": {},
   "source": [
    "## Here, its given that a person's fake date is generated from the given real date of the user so we have 365-1 dates from which a fake date is chosen and to make sure it's unique all the date which were taken before  \n",
    "\n",
    "- So considering we have 2 humans initially  , these are written in such a way to make sure that all of thee chosen dates are unique\n",
    "- P1Realdate = (365/365)\n",
    "- P1FakeDate = (365-1)/364\n",
    "- P2RealDate = ( 365-2)/365\n",
    "- P2FakeDate = ( 365 - 3)/364\n",
    "- All the unique probabilities are to be multiplied to get the probability that no \n",
    "- = (P1Realdata) * (P1FakeData) * (P2RealData) * (P2FakeDate)\n",
    "\n",
    "- The probabiltuy that all of these have atleast 2 of them matching is \n",
    "- 1 - (P1Realdata) * (P1FakeData) * (P2RealData) * (P2FakeDate)\n",
    "\n",
    "- This should be \n",
    "- 1 - (P1Realdata) * (P1FakeData) * (P2RealData) * (P2FakeDate) >= p\n",
    "- 1 - p >=  (P1Realdata) * (P1FakeData) * (P2RealData) * (P2FakeDate)\n",
    "- So the loop is made to break for the above condition \n",
    "and works till 1- p < (P1Realdata) * (P1FakeData) * (P2RealData) * (P2FakeDate) for a given probabilty"
   ]
  },
  {
   "cell_type": "code",
   "execution_count": 2,
   "metadata": {},
   "outputs": [
    {
     "name": "stdout",
     "output_type": "stream",
     "text": [
      "The smallest integer 'n' for probability 0.49 is 13.\n"
     ]
    }
   ],
   "source": [
    "import math as mth\n",
    "def compute_birthday_paradox_probability(p):\n",
    "    n = 1\n",
    "    probability_no_match = 1\n",
    "    remaining_unique_dates = 365\n",
    "    while probability_no_match > (1 - p):\n",
    "        probability_no_match *= (remaining_unique_dates ) /365\n",
    "        remaining_unique_dates -= 1\n",
    "        probability_no_match *= (remaining_unique_dates )/364\n",
    "        remaining_unique_dates -= 1  \n",
    "        n += 1\n",
    "\n",
    "    return n\n",
    "\n",
    "p = 0.49\n",
    "result = compute_birthday_paradox_probability(p)\n",
    "print(f\"The smallest integer 'n' for probability {p} is {result}.\")\n"
   ]
  },
  {
   "cell_type": "markdown",
   "metadata": {},
   "source": [
    "-----------------------------"
   ]
  },
  {
   "cell_type": "code",
   "execution_count": 18,
   "metadata": {},
   "outputs": [
    {
     "name": "stdout",
     "output_type": "stream",
     "text": [
      "2.706025\n",
      "b =  222.706025\n",
      "c =  12100\n"
     ]
    }
   ],
   "source": [
    "print(1.645*1.645)\n",
    "print(\"b = \", 220+2.706025 )\n",
    "print(\"c = \",110*110 )"
   ]
  },
  {
   "cell_type": "markdown",
   "metadata": {},
   "source": [
    "ans for second part n = 32"
   ]
  },
  {
   "cell_type": "code",
   "execution_count": 19,
   "metadata": {},
   "outputs": [
    {
     "name": "stdout",
     "output_type": "stream",
     "text": [
      "The roots of the quadratic inequality are: [9.697790217004473, -11.342790217004472]\n"
     ]
    }
   ],
   "source": [
    "import numpy as np\n",
    "\n",
    "def quadratic_inequality_solver(a, b, c):\n",
    "\n",
    "  # Calculate the discriminant\n",
    "  discriminant = b**2 - 4 * a * c\n",
    "\n",
    "  # If the discriminant is positive, the roots are real and distinct\n",
    "  if discriminant > 0:\n",
    "    root1 = (-b + np.sqrt(discriminant)) / (2 * a)\n",
    "    root2 = (-b - np.sqrt(discriminant)) / (2 * a)\n",
    "    return [root1, root2]\n",
    "\n",
    "  # If the discriminant is zero, the roots are real and equal\n",
    "  elif discriminant == 0:\n",
    "    root = -b / (2 * a)\n",
    "    return [root, root]\n",
    "\n",
    "  # If the discriminant is negative, the roots are complex\n",
    "  else:\n",
    "    return [\"complex\", \"complex\"]\n",
    "\n",
    "# Example usage\n",
    "a = 1\n",
    "b = 1.645\n",
    "c = -110\n",
    "\n",
    "roots = quadratic_inequality_solver(a, b, c)\n",
    "\n",
    "print(\"The roots of the quadratic inequality are:\", roots)\n"
   ]
  },
  {
   "cell_type": "code",
   "execution_count": 20,
   "metadata": {},
   "outputs": [
    {
     "name": "stdout",
     "output_type": "stream",
     "text": [
      "The roots of the quadratic inequality are: [9.697790217004473, -11.342790217004472]\n"
     ]
    }
   ],
   "source": [
    "import numpy as np\n",
    "\n",
    "def quadratic_inequality_solver(a, b, c):\n",
    "\n",
    "  # Calculate the discriminant\n",
    "  discriminant = b**2 - 4 * a * c\n",
    "\n",
    "  # If the discriminant is positive, the roots are real and distinct\n",
    "  if discriminant > 0:\n",
    "    root1 = (-b + np.sqrt(discriminant)) / (2 * a)\n",
    "    root2 = (-b - np.sqrt(discriminant)) / (2 * a)\n",
    "    return [root1, root2]\n",
    "\n",
    "  # If the discriminant is zero, the roots are real and equal\n",
    "  elif discriminant == 0:\n",
    "    root = -b / (2 * a)\n",
    "    return [root, root]\n",
    "\n",
    "  # If the discriminant is negative, the roots are complex\n",
    "  else:\n",
    "    return [\"complex\", \"complex\"]\n",
    "\n",
    "# Example usage\n",
    "a = 1\n",
    "b = 1.645\n",
    "c = -110\n",
    "\n",
    "roots = quadratic_inequality_solver(a, b, c)\n",
    "\n",
    "print(\"The roots of the quadratic inequality are:\", roots)\n"
   ]
  },
  {
   "cell_type": "markdown",
   "metadata": {},
   "source": [
    "√(n) =  9.697790217004473 is only possible value so "
   ]
  },
  {
   "cell_type": "code",
   "execution_count": 21,
   "metadata": {},
   "outputs": [
    {
     "data": {
      "text/plain": [
       "94.04713509302765"
      ]
     },
     "execution_count": 21,
     "metadata": {},
     "output_type": "execute_result"
    }
   ],
   "source": [
    "9.697790217004473*9.697790217004473"
   ]
  }
 ],
 "metadata": {
  "kernelspec": {
   "display_name": "base",
   "language": "python",
   "name": "python3"
  },
  "language_info": {
   "codemirror_mode": {
    "name": "ipython",
    "version": 3
   },
   "file_extension": ".py",
   "mimetype": "text/x-python",
   "name": "python",
   "nbconvert_exporter": "python",
   "pygments_lexer": "ipython3",
   "version": "3.10.9"
  }
 },
 "nbformat": 4,
 "nbformat_minor": 2
}
