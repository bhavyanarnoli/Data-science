{
 "cells": [
  {
   "cell_type": "code",
   "execution_count": 754,
   "metadata": {},
   "outputs": [],
   "source": [
    "import pandas as pd"
   ]
  },
  {
   "cell_type": "code",
   "execution_count": 755,
   "metadata": {},
   "outputs": [],
   "source": [
    "data = pd.read_csv(\"Auto MPG - Sheet1.csv\")"
   ]
  },
  {
   "cell_type": "code",
   "execution_count": 756,
   "metadata": {},
   "outputs": [
    {
     "name": "stdout",
     "output_type": "stream",
     "text": [
      "    mpg  cylinders  displacement horsepower  weight  acceleration  model year   \n",
      "0  18.0          8         307.0        130    3504          12.0          70  \\\n",
      "1  15.0          8         350.0        165    3693          11.5          70   \n",
      "2  18.0          8         318.0        150    3436          11.0          70   \n",
      "3  16.0          8         304.0        150    3433          12.0          70   \n",
      "4  17.0          8         302.0        140    3449          10.5          70   \n",
      "\n",
      "   origin  \n",
      "0       1  \n",
      "1       1  \n",
      "2       1  \n",
      "3       1  \n",
      "4       1  \n"
     ]
    }
   ],
   "source": [
    "print(data.head())"
   ]
  },
  {
   "cell_type": "markdown",
   "metadata": {},
   "source": [
    "#### From the ucl website it's given already\n",
    "#### That these are the configuration of data types \n",
    "  ######  1. mpg:           continuous\n",
    "  ######  2. cylinders:     multi-valued discrete\n",
    "  ######  3. displacement:  continuous\n",
    "  ######  4. horsepower:    continuous\n",
    "  ######  5. weight:        continuous\n",
    "  ######  6. acceleration:  continuous\n",
    "  ######  7. model year:    multi-valued discrete\n",
    "  ######  8. origin:        multi-valued discrete"
   ]
  },
  {
   "cell_type": "markdown",
   "metadata": {},
   "source": [
    "### Printing the unique values of cylinders , model year , origin"
   ]
  },
  {
   "cell_type": "code",
   "execution_count": 757,
   "metadata": {},
   "outputs": [
    {
     "name": "stdout",
     "output_type": "stream",
     "text": [
      "[8 4 6 3 5]\n"
     ]
    }
   ],
   "source": [
    "print((data['cylinders'].unique()))"
   ]
  },
  {
   "cell_type": "code",
   "execution_count": 758,
   "metadata": {},
   "outputs": [],
   "source": [
    "df = pd.DataFrame(data)"
   ]
  },
  {
   "cell_type": "code",
   "execution_count": 759,
   "metadata": {},
   "outputs": [],
   "source": [
    "import numpy as np"
   ]
  },
  {
   "cell_type": "code",
   "execution_count": 760,
   "metadata": {},
   "outputs": [],
   "source": [
    "discrete_columns = ['cylinders', 'model year', 'origin']"
   ]
  },
  {
   "cell_type": "markdown",
   "metadata": {},
   "source": [
    "### Encoded this on basis of the the number of rows of that specefic unique value the least one gets the first 1 in first place , highest gets 1 in last place\n",
    "\n",
    "Column - Cylinder \n",
    "#### For e.g.  - These are the unique values in this case [8 4 6 3 5]\n",
    "\n",
    "| Value | Number of Rows | Encoding      |\n",
    "|-------|----------------|---------------|\n",
    "| 4     | 204            | 0 ,  0 ,  0 ,  0 , 1 |\n",
    "| 8     | 103            | 0 ,  0 ,  0 ,  1 , 0 |\n",
    "| 6     | 84             | 0 ,  0 ,  1 ,  0 , 0 |\n",
    "| 3     | 4              | 0 ,  1 ,  0 ,  0 ,  0 |\n",
    "| 5     | 3              | 1 ,  0 ,  0 ,  0 ,  0 |\n"
   ]
  },
  {
   "cell_type": "code",
   "execution_count": 761,
   "metadata": {},
   "outputs": [
    {
     "name": "stdout",
     "output_type": "stream",
     "text": [
      "cylinders\n",
      "4    204\n",
      "8    103\n",
      "6     84\n",
      "3      4\n",
      "5      3\n",
      "Name: count, dtype: int64\n",
      "after sorting on basis of row  [5 3 6 4 8]\n",
      "this is encoding for  5 value is  10000\n",
      "this is encoding for  3 value is  01000\n",
      "this is encoding for  6 value is  00100\n",
      "this is encoding for  4 value is  00010\n",
      "this is encoding for  8 value is  00001\n",
      "model year\n",
      "73    40\n",
      "78    36\n",
      "76    34\n",
      "82    31\n",
      "75    30\n",
      "70    29\n",
      "79    29\n",
      "80    29\n",
      "81    29\n",
      "71    28\n",
      "72    28\n",
      "77    28\n",
      "74    27\n",
      "Name: count, dtype: int64\n",
      "after sorting on basis of row  [82 79 80 81 75 76 77 78 74 73 72 71 70]\n",
      "this is encoding for  82 value is  1000000000000\n",
      "this is encoding for  79 value is  0100000000000\n",
      "this is encoding for  80 value is  0010000000000\n",
      "this is encoding for  81 value is  0001000000000\n",
      "this is encoding for  75 value is  0000100000000\n",
      "this is encoding for  76 value is  0000010000000\n",
      "this is encoding for  77 value is  0000001000000\n",
      "this is encoding for  78 value is  0000000100000\n",
      "this is encoding for  74 value is  0000000010000\n",
      "this is encoding for  73 value is  0000000001000\n",
      "this is encoding for  72 value is  0000000000100\n",
      "this is encoding for  71 value is  0000000000010\n",
      "this is encoding for  70 value is  0000000000001\n",
      "origin\n",
      "1    249\n",
      "3     79\n",
      "2     70\n",
      "Name: count, dtype: int64\n",
      "after sorting on basis of row  [2 3 1]\n",
      "this is encoding for  2 value is  100\n",
      "this is encoding for  3 value is  010\n",
      "this is encoding for  1 value is  001\n"
     ]
    }
   ],
   "source": [
    "df = pd.DataFrame(data)\n",
    "\n",
    "# Define the discrete columns to be one-hot encoded\n",
    "discrete_columns = ['cylinders', 'model year', 'origin']\n",
    "\n",
    "# Create custom binary encoding for each discrete column\n",
    "for column in discrete_columns:\n",
    "    column_values = df[column]\n",
    "    \n",
    "    # Calculate unique values and their counts\n",
    "    unique_values, value_counts = column_values.unique(), column_values.value_counts()\n",
    "\n",
    "    # Iterate through unique values and print both the value and the number of rows\n",
    "    \n",
    "    print(value_counts)\n",
    "\n",
    "    # print(\"column name is \" , value_counts   )\n",
    "\n",
    "    # Sort unique values based on counts in ascending order\n",
    "    unique_values = unique_values[np.argsort(value_counts)]\n",
    "    print(\"after sorting on basis of row \" , unique_values)\n",
    "\n",
    "    # Create custom binary encoding based on counts\n",
    "    for i, unique_value in enumerate(unique_values):\n",
    "        encoding = ['0'] * len(unique_values)\n",
    "        encoding[i] = '1'\n",
    "        encoding = ''.join(encoding)\n",
    "        print('this is encoding for ' , unique_value  , \"value is \",  encoding)\n",
    "        # Create a new column with the custom encoding\n",
    "        column_name = f'{column}_{unique_value}'\n",
    "        df[column_name] = (column_values == unique_value).astype(int)\n"
   ]
  },
  {
   "cell_type": "markdown",
   "metadata": {},
   "source": [
    "##  Below are the columns in modified csv"
   ]
  },
  {
   "cell_type": "markdown",
   "metadata": {},
   "source": [
    "### mpg , displacement , horsepower , weight , acceleration , cylinders_5 , cylinders_3 , cylinders_6 , cylinders_4 , cylinders_8 , model year_82 , model year_79 , model year_80 , model year_81 , model year_75 , model year_76 , model year_77 , model year_78 , model year_74 , model year_73 , model year_72 , model year_71 , model year_70 , origin_2 , origin_3 , origin_1"
   ]
  },
  {
   "cell_type": "markdown",
   "metadata": {},
   "source": [
    "#### making each column of the unique values present in the continous-discrete value column"
   ]
  },
  {
   "cell_type": "code",
   "execution_count": 762,
   "metadata": {},
   "outputs": [
    {
     "name": "stdout",
     "output_type": "stream",
     "text": [
      "      mpg  displacement horsepower  weight  acceleration  cylinders_5   \n",
      "0    18.0         307.0        130    3504          12.0            0  \\\n",
      "1    15.0         350.0        165    3693          11.5            0   \n",
      "2    18.0         318.0        150    3436          11.0            0   \n",
      "3    16.0         304.0        150    3433          12.0            0   \n",
      "4    17.0         302.0        140    3449          10.5            0   \n",
      "..    ...           ...        ...     ...           ...          ...   \n",
      "393  27.0         140.0         86    2790          15.6            0   \n",
      "394  44.0          97.0         52    2130          24.6            0   \n",
      "395  32.0         135.0         84    2295          11.6            0   \n",
      "396  28.0         120.0         79    2625          18.6            0   \n",
      "397  31.0         119.0         82    2720          19.4            0   \n",
      "\n",
      "     cylinders_3  cylinders_6  cylinders_4  cylinders_8  ...  model year_77   \n",
      "0              0            0            0            1  ...              0  \\\n",
      "1              0            0            0            1  ...              0   \n",
      "2              0            0            0            1  ...              0   \n",
      "3              0            0            0            1  ...              0   \n",
      "4              0            0            0            1  ...              0   \n",
      "..           ...          ...          ...          ...  ...            ...   \n",
      "393            0            0            1            0  ...              0   \n",
      "394            0            0            1            0  ...              0   \n",
      "395            0            0            1            0  ...              0   \n",
      "396            0            0            1            0  ...              0   \n",
      "397            0            0            1            0  ...              0   \n",
      "\n",
      "     model year_78  model year_74  model year_73  model year_72   \n",
      "0                0              0              0              0  \\\n",
      "1                0              0              0              0   \n",
      "2                0              0              0              0   \n",
      "3                0              0              0              0   \n",
      "4                0              0              0              0   \n",
      "..             ...            ...            ...            ...   \n",
      "393              0              0              0              0   \n",
      "394              0              0              0              0   \n",
      "395              0              0              0              0   \n",
      "396              0              0              0              0   \n",
      "397              0              0              0              0   \n",
      "\n",
      "     model year_71  model year_70  origin_2  origin_3  origin_1  \n",
      "0                0              1         0         0         1  \n",
      "1                0              1         0         0         1  \n",
      "2                0              1         0         0         1  \n",
      "3                0              1         0         0         1  \n",
      "4                0              1         0         0         1  \n",
      "..             ...            ...       ...       ...       ...  \n",
      "393              0              0         0         0         1  \n",
      "394              0              0         1         0         0  \n",
      "395              0              0         0         0         1  \n",
      "396              0              0         0         0         1  \n",
      "397              0              0         0         0         1  \n",
      "\n",
      "[398 rows x 26 columns]\n"
     ]
    }
   ],
   "source": [
    "\n",
    "# Drop the original discrete columns\n",
    "df.drop(discrete_columns, axis=1, inplace=True)\n",
    "\n",
    "# Display the modified DataFrame with the custom binary encoding\n",
    "print(df)\n"
   ]
  },
  {
   "cell_type": "code",
   "execution_count": 763,
   "metadata": {},
   "outputs": [
    {
     "name": "stdout",
     "output_type": "stream",
     "text": [
      "Index(['horsepower'], dtype='object')\n"
     ]
    }
   ],
   "source": [
    "non_numeric_columns = data.select_dtypes(exclude=['number'])\n",
    "\n",
    "# Display the list of non-numeric columns\n",
    "print(non_numeric_columns.columns)\n"
   ]
  },
  {
   "cell_type": "markdown",
   "metadata": {},
   "source": [
    "## From this there are some missing data in horsepower column"
   ]
  },
  {
   "cell_type": "code",
   "execution_count": 764,
   "metadata": {},
   "outputs": [
    {
     "name": "stdout",
     "output_type": "stream",
     "text": [
      "      mpg  displacement  horsepower  weight  acceleration  cylinders_5   \n",
      "0    18.0         307.0       130.0    3504          12.0            0  \\\n",
      "1    15.0         350.0       165.0    3693          11.5            0   \n",
      "2    18.0         318.0       150.0    3436          11.0            0   \n",
      "3    16.0         304.0       150.0    3433          12.0            0   \n",
      "4    17.0         302.0       140.0    3449          10.5            0   \n",
      "..    ...           ...         ...     ...           ...          ...   \n",
      "393  27.0         140.0        86.0    2790          15.6            0   \n",
      "394  44.0          97.0        52.0    2130          24.6            0   \n",
      "395  32.0         135.0        84.0    2295          11.6            0   \n",
      "396  28.0         120.0        79.0    2625          18.6            0   \n",
      "397  31.0         119.0        82.0    2720          19.4            0   \n",
      "\n",
      "     cylinders_3  cylinders_6  cylinders_4  cylinders_8  ...  model year_77   \n",
      "0              0            0            0            1  ...              0  \\\n",
      "1              0            0            0            1  ...              0   \n",
      "2              0            0            0            1  ...              0   \n",
      "3              0            0            0            1  ...              0   \n",
      "4              0            0            0            1  ...              0   \n",
      "..           ...          ...          ...          ...  ...            ...   \n",
      "393            0            0            1            0  ...              0   \n",
      "394            0            0            1            0  ...              0   \n",
      "395            0            0            1            0  ...              0   \n",
      "396            0            0            1            0  ...              0   \n",
      "397            0            0            1            0  ...              0   \n",
      "\n",
      "     model year_78  model year_74  model year_73  model year_72   \n",
      "0                0              0              0              0  \\\n",
      "1                0              0              0              0   \n",
      "2                0              0              0              0   \n",
      "3                0              0              0              0   \n",
      "4                0              0              0              0   \n",
      "..             ...            ...            ...            ...   \n",
      "393              0              0              0              0   \n",
      "394              0              0              0              0   \n",
      "395              0              0              0              0   \n",
      "396              0              0              0              0   \n",
      "397              0              0              0              0   \n",
      "\n",
      "     model year_71  model year_70  origin_2  origin_3  origin_1  \n",
      "0                0              1         0         0         1  \n",
      "1                0              1         0         0         1  \n",
      "2                0              1         0         0         1  \n",
      "3                0              1         0         0         1  \n",
      "4                0              1         0         0         1  \n",
      "..             ...            ...       ...       ...       ...  \n",
      "393              0              0         0         0         1  \n",
      "394              0              0         1         0         0  \n",
      "395              0              0         0         0         1  \n",
      "396              0              0         0         0         1  \n",
      "397              0              0         0         0         1  \n",
      "\n",
      "[398 rows x 26 columns]\n"
     ]
    }
   ],
   "source": [
    "import pandas as pd\n",
    "import numpy as np\n",
    "\n",
    "# Load the DataFrame (replace 'data.csv' with your file path)\n",
    "# data = pd.read_csv(\"data.csv\")\n",
    "\n",
    "# Convert 'horsepower' column to numeric (replace '?' with NaN)\n",
    "df['horsepower'] = pd.to_numeric(df['horsepower'], errors='coerce')\n",
    "\n",
    "# Calculate the mean of 'horsepower' excluding NaN values\n",
    "mean_horsepower = df['horsepower'].mean()\n",
    "\n",
    "# Replace NaN values (formerly '?') with the calculated mean\n",
    "df['horsepower'].fillna(mean_horsepower, inplace=True)\n",
    "\n",
    "# Display the updated DataFrame\n",
    "print(df)\n"
   ]
  },
  {
   "cell_type": "code",
   "execution_count": 765,
   "metadata": {},
   "outputs": [
    {
     "name": "stdout",
     "output_type": "stream",
     "text": [
      "There are no '?' in the 'horsepower' column.\n"
     ]
    }
   ],
   "source": [
    "# Check if there are any '?' in the 'horsepower' column\n",
    "has_question_marks = (df['horsepower'] == '?')\n",
    "\n",
    "# Check if there are any rows with '?' in the 'horsepower' column\n",
    "if has_question_marks.any():\n",
    "    print(\"There are still '?' in the 'horsepower' column.\")\n",
    "else:\n",
    "    print(\"There are no '?' in the 'horsepower' column.\")\n"
   ]
  },
  {
   "cell_type": "code",
   "execution_count": 766,
   "metadata": {},
   "outputs": [],
   "source": [
    "df.to_csv('modified_data_binary.csv', index=False)"
   ]
  },
  {
   "cell_type": "markdown",
   "metadata": {},
   "source": [
    "https://www.geeksforgeeks.org/ml-one-hot-encoding-of-datasets-in-python/"
   ]
  },
  {
   "cell_type": "code",
   "execution_count": 767,
   "metadata": {},
   "outputs": [],
   "source": [
    "data = pd.read_csv(\"modified_data_binary.csv\")"
   ]
  },
  {
   "cell_type": "code",
   "execution_count": 768,
   "metadata": {},
   "outputs": [
    {
     "name": "stdout",
     "output_type": "stream",
     "text": [
      "    mpg  displacement  horsepower  weight  acceleration  cylinders_5   \n",
      "0  18.0         307.0       130.0    3504          12.0            0  \\\n",
      "1  15.0         350.0       165.0    3693          11.5            0   \n",
      "2  18.0         318.0       150.0    3436          11.0            0   \n",
      "3  16.0         304.0       150.0    3433          12.0            0   \n",
      "4  17.0         302.0       140.0    3449          10.5            0   \n",
      "\n",
      "   cylinders_3  cylinders_6  cylinders_4  cylinders_8  ...  model year_77   \n",
      "0            0            0            0            1  ...              0  \\\n",
      "1            0            0            0            1  ...              0   \n",
      "2            0            0            0            1  ...              0   \n",
      "3            0            0            0            1  ...              0   \n",
      "4            0            0            0            1  ...              0   \n",
      "\n",
      "   model year_78  model year_74  model year_73  model year_72  model year_71   \n",
      "0              0              0              0              0              0  \\\n",
      "1              0              0              0              0              0   \n",
      "2              0              0              0              0              0   \n",
      "3              0              0              0              0              0   \n",
      "4              0              0              0              0              0   \n",
      "\n",
      "   model year_70  origin_2  origin_3  origin_1  \n",
      "0              1         0         0         1  \n",
      "1              1         0         0         1  \n",
      "2              1         0         0         1  \n",
      "3              1         0         0         1  \n",
      "4              1         0         0         1  \n",
      "\n",
      "[5 rows x 26 columns]\n"
     ]
    }
   ],
   "source": [
    "print(data.head())"
   ]
  },
  {
   "cell_type": "markdown",
   "metadata": {},
   "source": [
    "  ----------------------------------------------------------------"
   ]
  },
  {
   "cell_type": "markdown",
   "metadata": {},
   "source": [
    "1) b) Let D = {x1, x2, . . . , xn} be n objects consists of d features, i.e., for every 1 ≤ i ≤ n, xi = [xi1, xi2, . . . , xid] ∈ R\n",
    "d. The variance σ2 of D is defined as σ2 :=\n",
    "Xn i=1 (xi − x ̄)T (xi − x ̄) = 1nXn i=1∥xi − x ̄∥22, where for any a = [a1, . . . , ad] ∈ R d, the aT a = ∥a∥22 =P 1≤i≤d\n",
    "(ai) 2 and the mean x ̄ = 1 n P 1≤i≤n xi . Now, use the file you have saved in (a) and compute the mean  ̄x and variance σ2 of the data in it."
   ]
  },
  {
   "cell_type": "code",
   "execution_count": 769,
   "metadata": {},
   "outputs": [
    {
     "name": "stdout",
     "output_type": "stream",
     "text": [
      "mean of each column is \n",
      "mpg                23.514573\n",
      "displacement      193.425879\n",
      "horsepower        104.469388\n",
      "weight           2970.424623\n",
      "acceleration       15.568090\n",
      "cylinders_5         0.007538\n",
      "cylinders_3         0.010050\n",
      "cylinders_6         0.211055\n",
      "cylinders_4         0.512563\n",
      "cylinders_8         0.258794\n",
      "model year_82       0.077889\n",
      "model year_79       0.072864\n",
      "model year_80       0.072864\n",
      "model year_81       0.072864\n",
      "model year_75       0.075377\n",
      "model year_76       0.085427\n",
      "model year_77       0.070352\n",
      "model year_78       0.090452\n",
      "model year_74       0.067839\n",
      "model year_73       0.100503\n",
      "model year_72       0.070352\n",
      "model year_71       0.070352\n",
      "model year_70       0.072864\n",
      "origin_2            0.175879\n",
      "origin_3            0.198492\n",
      "origin_1            0.625628\n",
      "dtype: float64\n"
     ]
    }
   ],
   "source": [
    "import pandas as pd\n",
    "\n",
    "# Load the modified data from the CSV file\n",
    "data = pd.read_csv(\"modified_data_binary.csv\")\n",
    "\n",
    "\n",
    "# Select only numeric columns (excluding any non-numeric columns)\n",
    "numeric_data = data.select_dtypes(include=['number'])\n",
    "\n",
    "\n",
    "variance_per_mean =  numeric_data.mean()\n",
    "# Calculate the variance for each numeric column\n",
    "variance_per_column = numeric_data.var()\n",
    "\n",
    "# Display the variance for each column\n",
    "print(\"mean of each column is \"  )\n",
    "print(variance_per_mean  )\n"
   ]
  },
  {
   "cell_type": "code",
   "execution_count": 770,
   "metadata": {},
   "outputs": [
    {
     "name": "stdout",
     "output_type": "stream",
     "text": [
      "variance of each column is \n",
      "mpg                  61.089611\n",
      "displacement      10872.199152\n",
      "horsepower         1459.177916\n",
      "weight           717140.990526\n",
      "acceleration          7.604848\n",
      "cylinders_5           0.007500\n",
      "cylinders_3           0.009974\n",
      "cylinders_6           0.166930\n",
      "cylinders_4           0.250472\n",
      "cylinders_8           0.192303\n",
      "model year_82         0.072004\n",
      "model year_79         0.067725\n",
      "model year_80         0.067725\n",
      "model year_81         0.067725\n",
      "model year_75         0.069871\n",
      "model year_76         0.078326\n",
      "model year_77         0.065567\n",
      "model year_78         0.082478\n",
      "model year_74         0.063396\n",
      "model year_73         0.090629\n",
      "model year_72         0.065567\n",
      "model year_71         0.065567\n",
      "model year_70         0.067725\n",
      "origin_2              0.145311\n",
      "origin_3              0.159494\n",
      "origin_1              0.234808\n",
      "dtype: float64\n"
     ]
    }
   ],
   "source": [
    "print(\"variance of each column is \")\n",
    "print( variance_per_column)\n"
   ]
  },
  {
   "cell_type": "markdown",
   "metadata": {},
   "source": [
    "------------------------------------------------------------------------------------------------------------------"
   ]
  },
  {
   "cell_type": "markdown",
   "metadata": {},
   "source": [
    "1 ) c) You might notice that the variance of the data is highly dominated by few\n",
    "features compared to other features. So, normalize each feature of the saved\n",
    "data with its mean and variance. Now compute the variance of the normalized\n",
    "data."
   ]
  },
  {
   "cell_type": "code",
   "execution_count": null,
   "metadata": {},
   "outputs": [],
   "source": []
  },
  {
   "cell_type": "markdown",
   "metadata": {},
   "source": [
    "--------------------------------------------------------------------------------------------------------------------------------------------"
   ]
  }
 ],
 "metadata": {
  "kernelspec": {
   "display_name": "Python 3",
   "language": "python",
   "name": "python3"
  },
  "language_info": {
   "codemirror_mode": {
    "name": "ipython",
    "version": 3
   },
   "file_extension": ".py",
   "mimetype": "text/x-python",
   "name": "python",
   "nbconvert_exporter": "python",
   "pygments_lexer": "ipython3",
   "version": "3.10.9"
  },
  "orig_nbformat": 4
 },
 "nbformat": 4,
 "nbformat_minor": 2
}
